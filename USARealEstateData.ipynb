{
 "cells": [
  {
   "cell_type": "code",
   "execution_count": 1,
   "id": "4dc6e178",
   "metadata": {},
   "outputs": [],
   "source": [
    "import pandas as pd\n",
    "import numpy as np\n",
    "import matplotlib.pyplot as plt"
   ]
  },
  {
   "cell_type": "code",
   "execution_count": 2,
   "id": "c5ce1968",
   "metadata": {},
   "outputs": [
    {
     "data": {
      "text/html": [
       "<div>\n",
       "<style scoped>\n",
       "    .dataframe tbody tr th:only-of-type {\n",
       "        vertical-align: middle;\n",
       "    }\n",
       "\n",
       "    .dataframe tbody tr th {\n",
       "        vertical-align: top;\n",
       "    }\n",
       "\n",
       "    .dataframe thead th {\n",
       "        text-align: right;\n",
       "    }\n",
       "</style>\n",
       "<table border=\"1\" class=\"dataframe\">\n",
       "  <thead>\n",
       "    <tr style=\"text-align: right;\">\n",
       "      <th></th>\n",
       "      <th>status</th>\n",
       "      <th>bed</th>\n",
       "      <th>bath</th>\n",
       "      <th>acre_lot</th>\n",
       "      <th>city</th>\n",
       "      <th>state</th>\n",
       "      <th>zip_code</th>\n",
       "      <th>house_size</th>\n",
       "      <th>prev_sold_date</th>\n",
       "      <th>price</th>\n",
       "    </tr>\n",
       "  </thead>\n",
       "  <tbody>\n",
       "    <tr>\n",
       "      <th>0</th>\n",
       "      <td>for_sale</td>\n",
       "      <td>3.0</td>\n",
       "      <td>2.0</td>\n",
       "      <td>0.12</td>\n",
       "      <td>Adjuntas</td>\n",
       "      <td>Puerto Rico</td>\n",
       "      <td>601.0</td>\n",
       "      <td>920.0</td>\n",
       "      <td>NaN</td>\n",
       "      <td>105000.0</td>\n",
       "    </tr>\n",
       "    <tr>\n",
       "      <th>1</th>\n",
       "      <td>for_sale</td>\n",
       "      <td>4.0</td>\n",
       "      <td>2.0</td>\n",
       "      <td>0.08</td>\n",
       "      <td>Adjuntas</td>\n",
       "      <td>Puerto Rico</td>\n",
       "      <td>601.0</td>\n",
       "      <td>1527.0</td>\n",
       "      <td>NaN</td>\n",
       "      <td>80000.0</td>\n",
       "    </tr>\n",
       "    <tr>\n",
       "      <th>2</th>\n",
       "      <td>for_sale</td>\n",
       "      <td>2.0</td>\n",
       "      <td>1.0</td>\n",
       "      <td>0.15</td>\n",
       "      <td>Juana Diaz</td>\n",
       "      <td>Puerto Rico</td>\n",
       "      <td>795.0</td>\n",
       "      <td>748.0</td>\n",
       "      <td>NaN</td>\n",
       "      <td>67000.0</td>\n",
       "    </tr>\n",
       "    <tr>\n",
       "      <th>3</th>\n",
       "      <td>for_sale</td>\n",
       "      <td>4.0</td>\n",
       "      <td>2.0</td>\n",
       "      <td>0.10</td>\n",
       "      <td>Ponce</td>\n",
       "      <td>Puerto Rico</td>\n",
       "      <td>731.0</td>\n",
       "      <td>1800.0</td>\n",
       "      <td>NaN</td>\n",
       "      <td>145000.0</td>\n",
       "    </tr>\n",
       "    <tr>\n",
       "      <th>4</th>\n",
       "      <td>for_sale</td>\n",
       "      <td>6.0</td>\n",
       "      <td>2.0</td>\n",
       "      <td>0.05</td>\n",
       "      <td>Mayaguez</td>\n",
       "      <td>Puerto Rico</td>\n",
       "      <td>680.0</td>\n",
       "      <td>NaN</td>\n",
       "      <td>NaN</td>\n",
       "      <td>65000.0</td>\n",
       "    </tr>\n",
       "    <tr>\n",
       "      <th>...</th>\n",
       "      <td>...</td>\n",
       "      <td>...</td>\n",
       "      <td>...</td>\n",
       "      <td>...</td>\n",
       "      <td>...</td>\n",
       "      <td>...</td>\n",
       "      <td>...</td>\n",
       "      <td>...</td>\n",
       "      <td>...</td>\n",
       "      <td>...</td>\n",
       "    </tr>\n",
       "    <tr>\n",
       "      <th>99995</th>\n",
       "      <td>for_sale</td>\n",
       "      <td>3.0</td>\n",
       "      <td>3.0</td>\n",
       "      <td>NaN</td>\n",
       "      <td>Hudson</td>\n",
       "      <td>Massachusetts</td>\n",
       "      <td>1749.0</td>\n",
       "      <td>2864.0</td>\n",
       "      <td>NaN</td>\n",
       "      <td>749900.0</td>\n",
       "    </tr>\n",
       "    <tr>\n",
       "      <th>99996</th>\n",
       "      <td>for_sale</td>\n",
       "      <td>2.0</td>\n",
       "      <td>1.0</td>\n",
       "      <td>0.34</td>\n",
       "      <td>Auburn</td>\n",
       "      <td>Massachusetts</td>\n",
       "      <td>1501.0</td>\n",
       "      <td>1075.0</td>\n",
       "      <td>1999-06-07</td>\n",
       "      <td>349900.0</td>\n",
       "    </tr>\n",
       "    <tr>\n",
       "      <th>99997</th>\n",
       "      <td>for_sale</td>\n",
       "      <td>3.0</td>\n",
       "      <td>2.0</td>\n",
       "      <td>1.01</td>\n",
       "      <td>Shrewsbury</td>\n",
       "      <td>Massachusetts</td>\n",
       "      <td>1545.0</td>\n",
       "      <td>1632.0</td>\n",
       "      <td>1995-09-27</td>\n",
       "      <td>549000.0</td>\n",
       "    </tr>\n",
       "    <tr>\n",
       "      <th>99998</th>\n",
       "      <td>for_sale</td>\n",
       "      <td>3.0</td>\n",
       "      <td>2.0</td>\n",
       "      <td>0.12</td>\n",
       "      <td>Worcester</td>\n",
       "      <td>Massachusetts</td>\n",
       "      <td>1604.0</td>\n",
       "      <td>1332.0</td>\n",
       "      <td>2000-09-11</td>\n",
       "      <td>299000.0</td>\n",
       "    </tr>\n",
       "    <tr>\n",
       "      <th>99999</th>\n",
       "      <td>for_sale</td>\n",
       "      <td>3.0</td>\n",
       "      <td>3.0</td>\n",
       "      <td>21.67</td>\n",
       "      <td>Grafton</td>\n",
       "      <td>Massachusetts</td>\n",
       "      <td>1536.0</td>\n",
       "      <td>1846.0</td>\n",
       "      <td>2020-10-06</td>\n",
       "      <td>535000.0</td>\n",
       "    </tr>\n",
       "  </tbody>\n",
       "</table>\n",
       "<p>100000 rows × 10 columns</p>\n",
       "</div>"
      ],
      "text/plain": [
       "         status  bed  bath  acre_lot        city          state  zip_code  \\\n",
       "0      for_sale  3.0   2.0      0.12    Adjuntas    Puerto Rico     601.0   \n",
       "1      for_sale  4.0   2.0      0.08    Adjuntas    Puerto Rico     601.0   \n",
       "2      for_sale  2.0   1.0      0.15  Juana Diaz    Puerto Rico     795.0   \n",
       "3      for_sale  4.0   2.0      0.10       Ponce    Puerto Rico     731.0   \n",
       "4      for_sale  6.0   2.0      0.05    Mayaguez    Puerto Rico     680.0   \n",
       "...         ...  ...   ...       ...         ...            ...       ...   \n",
       "99995  for_sale  3.0   3.0       NaN      Hudson  Massachusetts    1749.0   \n",
       "99996  for_sale  2.0   1.0      0.34      Auburn  Massachusetts    1501.0   \n",
       "99997  for_sale  3.0   2.0      1.01  Shrewsbury  Massachusetts    1545.0   \n",
       "99998  for_sale  3.0   2.0      0.12   Worcester  Massachusetts    1604.0   \n",
       "99999  for_sale  3.0   3.0     21.67     Grafton  Massachusetts    1536.0   \n",
       "\n",
       "       house_size prev_sold_date     price  \n",
       "0           920.0            NaN  105000.0  \n",
       "1          1527.0            NaN   80000.0  \n",
       "2           748.0            NaN   67000.0  \n",
       "3          1800.0            NaN  145000.0  \n",
       "4             NaN            NaN   65000.0  \n",
       "...           ...            ...       ...  \n",
       "99995      2864.0            NaN  749900.0  \n",
       "99996      1075.0     1999-06-07  349900.0  \n",
       "99997      1632.0     1995-09-27  549000.0  \n",
       "99998      1332.0     2000-09-11  299000.0  \n",
       "99999      1846.0     2020-10-06  535000.0  \n",
       "\n",
       "[100000 rows x 10 columns]"
      ]
     },
     "metadata": {},
     "output_type": "display_data"
    }
   ],
   "source": [
    "df = pd.read_csv('/Users/jeremydobbs/Desktop/Code/Real Estate/Project 1/realtor-data.csv')\n",
    "display(df)"
   ]
  },
  {
   "cell_type": "code",
   "execution_count": 3,
   "id": "af3f7f16",
   "metadata": {},
   "outputs": [
    {
     "data": {
      "text/plain": [
       "status                0\n",
       "bed               24950\n",
       "bath              24888\n",
       "acre_lot          14013\n",
       "city                 52\n",
       "state                 0\n",
       "zip_code            195\n",
       "house_size        24918\n",
       "prev_sold_date    71255\n",
       "price                 0\n",
       "dtype: int64"
      ]
     },
     "execution_count": 3,
     "metadata": {},
     "output_type": "execute_result"
    }
   ],
   "source": [
    "#Returns the number of missing values in each column of 'df'\n",
    "df.isnull().sum()"
   ]
  },
  {
   "cell_type": "code",
   "execution_count": 4,
   "id": "d0876811",
   "metadata": {},
   "outputs": [
    {
     "data": {
      "text/plain": [
       "85364"
      ]
     },
     "execution_count": 4,
     "metadata": {},
     "output_type": "execute_result"
    }
   ],
   "source": [
    "df.duplicated().sum()"
   ]
  },
  {
   "cell_type": "code",
   "execution_count": 5,
   "id": "4fb1ffcd",
   "metadata": {},
   "outputs": [],
   "source": [
    "df.drop_duplicates(inplace=True)"
   ]
  },
  {
   "cell_type": "code",
   "execution_count": 6,
   "id": "c8d7b4cd",
   "metadata": {},
   "outputs": [],
   "source": [
    "df['bed'].fillna(df['bed'].mode()[0], inplace=True)\n",
    "df['bath'].fillna(df['bath'].mode()[0], inplace=True)\n",
    "df['acre_lot'].fillna(df['acre_lot'].mode()[0], inplace=True)\n",
    "df['house_size'].fillna(df['house_size'].mode()[0], inplace=True)"
   ]
  },
  {
   "cell_type": "code",
   "execution_count": 7,
   "id": "60357620",
   "metadata": {},
   "outputs": [
    {
     "data": {
      "text/plain": [
       "(14636, 10)"
      ]
     },
     "execution_count": 7,
     "metadata": {},
     "output_type": "execute_result"
    }
   ],
   "source": [
    "#Returns the number of rows and columns of 'df'\n",
    "df.shape"
   ]
  },
  {
   "cell_type": "code",
   "execution_count": 8,
   "id": "a2c3389c",
   "metadata": {},
   "outputs": [
    {
     "name": "stdout",
     "output_type": "stream",
     "text": [
      "<class 'pandas.core.frame.DataFrame'>\n",
      "Int64Index: 14636 entries, 0 to 97288\n",
      "Data columns (total 10 columns):\n",
      " #   Column          Non-Null Count  Dtype  \n",
      "---  ------          --------------  -----  \n",
      " 0   status          14636 non-null  object \n",
      " 1   bed             14636 non-null  float64\n",
      " 2   bath            14636 non-null  float64\n",
      " 3   acre_lot        14636 non-null  float64\n",
      " 4   city            14620 non-null  object \n",
      " 5   state           14636 non-null  object \n",
      " 6   zip_code        14608 non-null  float64\n",
      " 7   house_size      14636 non-null  float64\n",
      " 8   prev_sold_date  5296 non-null   object \n",
      " 9   price           14636 non-null  float64\n",
      "dtypes: float64(6), object(4)\n",
      "memory usage: 1.2+ MB\n"
     ]
    }
   ],
   "source": [
    "#Provides a summary of 'df', including the data type and number of non-null values in each column\n",
    "df.info()"
   ]
  },
  {
   "cell_type": "code",
   "execution_count": 9,
   "id": "c66acd4e",
   "metadata": {},
   "outputs": [
    {
     "data": {
      "text/plain": [
       "array(['Puerto Rico', 'Virgin Islands', 'Massachusetts', 'Connecticut',\n",
       "       'New Hampshire', 'Vermont', 'New Jersey', 'New York',\n",
       "       'South Carolina', 'Tennessee', 'Rhode Island', 'Virginia'],\n",
       "      dtype=object)"
      ]
     },
     "execution_count": 9,
     "metadata": {},
     "output_type": "execute_result"
    }
   ],
   "source": [
    "#Returns an array of unique values in the 'state' column of 'df'\n",
    "df['state'].unique()"
   ]
  },
  {
   "cell_type": "code",
   "execution_count": 10,
   "id": "bb6114a2",
   "metadata": {},
   "outputs": [
    {
     "data": {
      "image/png": "[encoded data removed]",
      "text/plain": [
       "<Figure size 432x288 with 1 Axes>"
      ]
     },
     "metadata": {
      "needs_background": "light"
     },
     "output_type": "display_data"
    }
   ],
   "source": [
    "#Average Price in the US states\n",
    "df.groupby('state').price.mean().sort_values(ascending=False).plot.bar(color='green')\n",
    "plt.title('Average Price of Real Estate for US states')\n",
    "plt.show()"
   ]
  },
  {
   "cell_type": "code",
   "execution_count": 11,
   "id": "3dd7a56e",
   "metadata": {},
   "outputs": [
    {
     "data": {
      "text/html": [
       "<div>\n",
       "<style scoped>\n",
       "    .dataframe tbody tr th:only-of-type {\n",
       "        vertical-align: middle;\n",
       "    }\n",
       "\n",
       "    .dataframe tbody tr th {\n",
       "        vertical-align: top;\n",
       "    }\n",
       "\n",
       "    .dataframe thead th {\n",
       "        text-align: right;\n",
       "    }\n",
       "</style>\n",
       "<table border=\"1\" class=\"dataframe\">\n",
       "  <thead>\n",
       "    <tr style=\"text-align: right;\">\n",
       "      <th></th>\n",
       "      <th>acre_lot</th>\n",
       "      <th>bath</th>\n",
       "      <th>bed</th>\n",
       "      <th>house_size</th>\n",
       "      <th>price</th>\n",
       "    </tr>\n",
       "    <tr>\n",
       "      <th>state</th>\n",
       "      <th></th>\n",
       "      <th></th>\n",
       "      <th></th>\n",
       "      <th></th>\n",
       "      <th></th>\n",
       "    </tr>\n",
       "  </thead>\n",
       "  <tbody>\n",
       "    <tr>\n",
       "      <th>Connecticut</th>\n",
       "      <td>55.9</td>\n",
       "      <td>2.5</td>\n",
       "      <td>3.4</td>\n",
       "      <td>1980.5</td>\n",
       "      <td>410423.9</td>\n",
       "    </tr>\n",
       "    <tr>\n",
       "      <th>Massachusetts</th>\n",
       "      <td>7.2</td>\n",
       "      <td>2.5</td>\n",
       "      <td>3.6</td>\n",
       "      <td>2110.1</td>\n",
       "      <td>554256.3</td>\n",
       "    </tr>\n",
       "    <tr>\n",
       "      <th>New Hampshire</th>\n",
       "      <td>6.6</td>\n",
       "      <td>2.4</td>\n",
       "      <td>3.2</td>\n",
       "      <td>2045.5</td>\n",
       "      <td>484640.3</td>\n",
       "    </tr>\n",
       "    <tr>\n",
       "      <th>New Jersey</th>\n",
       "      <td>0.1</td>\n",
       "      <td>3.0</td>\n",
       "      <td>3.0</td>\n",
       "      <td>1500.0</td>\n",
       "      <td>333490.0</td>\n",
       "    </tr>\n",
       "    <tr>\n",
       "      <th>New York</th>\n",
       "      <td>33.7</td>\n",
       "      <td>2.5</td>\n",
       "      <td>3.5</td>\n",
       "      <td>2143.3</td>\n",
       "      <td>645093.9</td>\n",
       "    </tr>\n",
       "    <tr>\n",
       "      <th>Puerto Rico</th>\n",
       "      <td>48.3</td>\n",
       "      <td>2.4</td>\n",
       "      <td>3.5</td>\n",
       "      <td>2466.1</td>\n",
       "      <td>677452.4</td>\n",
       "    </tr>\n",
       "    <tr>\n",
       "      <th>Rhode Island</th>\n",
       "      <td>0.9</td>\n",
       "      <td>2.3</td>\n",
       "      <td>3.6</td>\n",
       "      <td>2147.6</td>\n",
       "      <td>457626.7</td>\n",
       "    </tr>\n",
       "    <tr>\n",
       "      <th>South Carolina</th>\n",
       "      <td>0.1</td>\n",
       "      <td>2.0</td>\n",
       "      <td>3.0</td>\n",
       "      <td>1200.0</td>\n",
       "      <td>18950.0</td>\n",
       "    </tr>\n",
       "    <tr>\n",
       "      <th>Tennessee</th>\n",
       "      <td>0.9</td>\n",
       "      <td>2.0</td>\n",
       "      <td>3.0</td>\n",
       "      <td>1200.0</td>\n",
       "      <td>34900.0</td>\n",
       "    </tr>\n",
       "    <tr>\n",
       "      <th>Vermont</th>\n",
       "      <td>10.0</td>\n",
       "      <td>2.5</td>\n",
       "      <td>3.5</td>\n",
       "      <td>1974.5</td>\n",
       "      <td>362784.9</td>\n",
       "    </tr>\n",
       "    <tr>\n",
       "      <th>Virgin Islands</th>\n",
       "      <td>13.4</td>\n",
       "      <td>2.5</td>\n",
       "      <td>3.2</td>\n",
       "      <td>1798.9</td>\n",
       "      <td>834046.1</td>\n",
       "    </tr>\n",
       "    <tr>\n",
       "      <th>Virginia</th>\n",
       "      <td>0.1</td>\n",
       "      <td>2.0</td>\n",
       "      <td>3.0</td>\n",
       "      <td>1200.0</td>\n",
       "      <td>75000.0</td>\n",
       "    </tr>\n",
       "  </tbody>\n",
       "</table>\n",
       "</div>"
      ],
      "text/plain": [
       "                acre_lot  bath  bed  house_size     price\n",
       "state                                                    \n",
       "Connecticut         55.9   2.5  3.4      1980.5  410423.9\n",
       "Massachusetts        7.2   2.5  3.6      2110.1  554256.3\n",
       "New Hampshire        6.6   2.4  3.2      2045.5  484640.3\n",
       "New Jersey           0.1   3.0  3.0      1500.0  333490.0\n",
       "New York            33.7   2.5  3.5      2143.3  645093.9\n",
       "Puerto Rico         48.3   2.4  3.5      2466.1  677452.4\n",
       "Rhode Island         0.9   2.3  3.6      2147.6  457626.7\n",
       "South Carolina       0.1   2.0  3.0      1200.0   18950.0\n",
       "Tennessee            0.9   2.0  3.0      1200.0   34900.0\n",
       "Vermont             10.0   2.5  3.5      1974.5  362784.9\n",
       "Virgin Islands      13.4   2.5  3.2      1798.9  834046.1\n",
       "Virginia             0.1   2.0  3.0      1200.0   75000.0"
      ]
     },
     "execution_count": 11,
     "metadata": {},
     "output_type": "execute_result"
    }
   ],
   "source": [
    "#Creates a pivot table using the DataFrame 'df' with the state column as the index, and the mean values of 'bed', 'bath', 'acre_lot', 'house_size', and 'price' columns as the values. \n",
    "#The aggfunc parameter specifies that the mean is to be used for aggregation. The resulting pivot table is rounded to one decimal place using the round() function. \n",
    "#This code provides an aggregated view of the average number of bedrooms, bathrooms, lot size, house size, and price of real estate properties, based on their state.\n",
    "round(df.pivot_table(index='state',values=['bed','bath','acre_lot','house_size','price'],aggfunc='mean'),1)"
   ]
  },
  {
   "cell_type": "code",
   "execution_count": 20,
   "id": "b6c142bd",
   "metadata": {},
   "outputs": [
    {
     "data": {
      "image/png": "[encoded data removed]",
      "text/plain": [
       "<Figure size 432x288 with 1 Axes>"
      ]
     },
     "metadata": {
      "needs_background": "light"
     },
     "output_type": "display_data"
    }
   ],
   "source": [
    "# Get the value counts of 'bed' column\n",
    "bed_counts = df['bed'].value_counts()\n",
    "\n",
    "# Create a horizontal bar plot using Matplotlib\n",
    "fig, ax = plt.subplots()\n",
    "ax.barh(bed_counts.index, bed_counts.values, align='center')\n",
    "\n",
    "# Set the x-label and y-label\n",
    "ax.set_xlabel('Count')\n",
    "ax.set_ylabel('Bed')\n",
    "\n",
    "# Set the tick labels rotation\n",
    "plt.xticks(rotation=90)\n",
    "\n",
    "# Add the count labels to the bars\n",
    "for i, v in enumerate(bed_counts.values):\n",
    "    ax.text(v + 3, i - 0.1, str(v), color='green', fontweight='bold')\n",
    "\n",
    "# Set the y-axis limit to a maximum of 40\n",
    "ax.set_ylim(top=30)\n",
    "\n",
    "plt.show()"
   ]
  },
  {
   "cell_type": "code",
   "execution_count": 21,
   "id": "307d06c0",
   "metadata": {},
   "outputs": [
    {
     "data": {
      "image/png": "[encoded data removed]",
      "text/plain": [
       "<Figure size 432x288 with 1 Axes>"
      ]
     },
     "metadata": {
      "needs_background": "light"
     },
     "output_type": "display_data"
    }
   ],
   "source": [
    "# Get the value counts of 'bed' column\n",
    "bath_counts = df['bath'].value_counts()\n",
    "\n",
    "# Create a horizontal bar plot using Matplotlib\n",
    "fig, ax = plt.subplots()\n",
    "ax.barh(bath_counts.index, bath_counts.values, align='center')\n",
    "\n",
    "# Set the x-label and y-label\n",
    "ax.set_xlabel('Count')\n",
    "ax.set_ylabel('Bath')\n",
    "\n",
    "# Set the tick labels rotation\n",
    "plt.xticks(rotation=90)\n",
    "\n",
    "# Add the count labels to the bars\n",
    "for i, v in enumerate(bath_counts.values):\n",
    "    ax.text(v + 3, i - 0.1, str(v), color='green', fontweight='bold')\n",
    "    \n",
    "# Set the y-axis limit to a maximum of 40\n",
    "ax.set_ylim(top=30)\n",
    "\n",
    "plt.show()"
   ]
  },
  {
   "cell_type": "code",
   "execution_count": null,
   "id": "d53a2302",
   "metadata": {},
   "outputs": [],
   "source": []
  }
 ],
 "metadata": {
  "kernelspec": {
   "display_name": "Python 3 (ipykernel)",
   "language": "python",
   "name": "python3"
  },
  "language_info": {
   "codemirror_mode": {
    "name": "ipython",
    "version": 3
   },
   "file_extension": ".py",
   "mimetype": "text/x-python",
   "name": "python",
   "nbconvert_exporter": "python",
   "pygments_lexer": "ipython3",
   "version": "3.9.7"
  }
 },
 "nbformat": 4,
 "nbformat_minor": 5
}
